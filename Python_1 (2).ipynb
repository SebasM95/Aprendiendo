{
  "cells": [
    {
      "cell_type": "markdown",
      "metadata": {
        "id": "p1Si5a9YlgWZ"
      },
      "source": [
        "**Buenos días** estoy aprendiendo python."
      ]
    },
    {
      "cell_type": "code",
      "execution_count": null,
      "metadata": {
        "colab": {
          "base_uri": "https://localhost:8080/"
        },
        "id": "1Yj-j9kDjQGV",
        "outputId": "5b8c0477-8461-4cff-8450-61001733adf3"
      },
      "outputs": [
        {
          "name": "stdout",
          "output_type": "stream",
          "text": [
            "Hola Mundo\n"
          ]
        }
      ],
      "source": [
        "#Esto es una broma\n",
        "print(\"Hola Mundo\")"
      ]
    },
    {
      "cell_type": "code",
      "execution_count": null,
      "metadata": {
        "colab": {
          "base_uri": "https://localhost:8080/"
        },
        "id": "xxmvXPfJmbRd",
        "outputId": "7c564439-e163-4eb9-e164-287f4e813155"
      },
      "outputs": [
        {
          "name": "stdout",
          "output_type": "stream",
          "text": [
            "Hola soy Sebastian, tengo 29 años y me gusta la musica\n"
          ]
        }
      ],
      "source": [
        "#Este soy yo\n",
        "print(\"Hola soy Sebastian, tengo 29 años y me gusta la musica\")"
      ]
    },
    {
      "cell_type": "code",
      "execution_count": null,
      "metadata": {
        "colab": {
          "base_uri": "https://localhost:8080/",
          "height": 35
        },
        "id": "fs9tl7VumnJp",
        "outputId": "1e270749-7c23-4b3d-c028-732e286b52ec"
      },
      "outputs": [
        {
          "data": {
            "application/vnd.google.colaboratory.intrinsic+json": {
              "type": "string"
            },
            "text/plain": [
              "'Hola'"
            ]
          },
          "execution_count": 66,
          "metadata": {},
          "output_type": "execute_result"
        }
      ],
      "source": [
        "\"Hola\""
      ]
    },
    {
      "cell_type": "markdown",
      "metadata": {
        "id": "Y_gTQRKyn2y7"
      },
      "source": [
        "**TIPOS DE DATOS**"
      ]
    },
    {
      "cell_type": "code",
      "execution_count": null,
      "metadata": {
        "colab": {
          "base_uri": "https://localhost:8080/"
        },
        "id": "qH_HY1Mdndki",
        "outputId": "f1cdfed2-b521-44ea-d578-6b2212088847"
      },
      "outputs": [
        {
          "data": {
            "text/plain": [
              "int"
            ]
          },
          "execution_count": 67,
          "metadata": {},
          "output_type": "execute_result"
        }
      ],
      "source": [
        "#Tipo de dato entero, en ingles integer y la abreviatura para python es int\n",
        "type(29)"
      ]
    },
    {
      "cell_type": "code",
      "execution_count": null,
      "metadata": {
        "colab": {
          "base_uri": "https://localhost:8080/"
        },
        "id": "YumX98lyosWf",
        "outputId": "5c11dfbc-da56-497e-ecb9-3ede8d8b7e8f"
      },
      "outputs": [
        {
          "data": {
            "text/plain": [
              "float"
            ]
          },
          "execution_count": 68,
          "metadata": {},
          "output_type": "execute_result"
        }
      ],
      "source": [
        "#Tipo de dato flotante, en ingles float, lo conocemos como decimal, su abreviatura es float\n",
        "type(3.14)"
      ]
    },
    {
      "cell_type": "code",
      "execution_count": null,
      "metadata": {
        "colab": {
          "base_uri": "https://localhost:8080/"
        },
        "id": "imcd77XIpC59",
        "outputId": "f7fd7ee1-e826-42b4-c436-db4c5d4fa321"
      },
      "outputs": [
        {
          "data": {
            "text/plain": [
              "bool"
            ]
          },
          "execution_count": 69,
          "metadata": {},
          "output_type": "execute_result"
        }
      ],
      "source": [
        "#Boleanos, son tipos de datos que solo pueden tener dos valores, el True (verdadero) o False (falso)\n",
        "type(True)"
      ]
    },
    {
      "cell_type": "code",
      "execution_count": null,
      "metadata": {
        "colab": {
          "base_uri": "https://localhost:8080/"
        },
        "id": "pwCaMvM5p4od",
        "outputId": "911086bd-447b-42b0-808d-1a3643cc87b3"
      },
      "outputs": [
        {
          "data": {
            "text/plain": [
              "str"
            ]
          },
          "execution_count": 70,
          "metadata": {},
          "output_type": "execute_result"
        }
      ],
      "source": [
        "#Tipos de datos cadena, en ingles strings, siempre deben tener comillas.\n",
        "type(\"Perro negro\")"
      ]
    },
    {
      "cell_type": "code",
      "execution_count": null,
      "metadata": {
        "id": "NPowXj0vqOXG"
      },
      "outputs": [],
      "source": []
    },
    {
      "cell_type": "markdown",
      "metadata": {
        "id": "0nXptr0YqaqF"
      },
      "source": [
        "Métodos de las cadenas, las cadenas tienen funciones pequeñas que me ayudan a formatearlas"
      ]
    },
    {
      "cell_type": "code",
      "execution_count": null,
      "metadata": {
        "colab": {
          "base_uri": "https://localhost:8080/"
        },
        "id": "2p_Dfh5mqf_4",
        "outputId": "5b525b5e-a8fe-441f-af65-0cfe7d68dc41"
      },
      "outputs": [
        {
          "name": "stdout",
          "output_type": "stream",
          "text": [
            "HOLA ESTOY APRENDIENDO PYTHON\n",
            "con python puedo pedir aumento\n",
            "La Divina Comedia\n",
            "21\n",
            "Holo soy Sebostion\n"
          ]
        }
      ],
      "source": [
        "print(\"Hola estoy aprendiendo python\".upper())#Este método me sirve para poner mayusculas\n",
        "print(\"Con Python puEdo pEdir AumenTO\".lower())#Este método me sirve para poner minusculas\n",
        "print(\"La divina comedia\".title())#Así puedo poner cada palabra en mayuscula\n",
        "print(\"Es una obra humana que refleja el peregrinaje del ser humano en busca de “la Luz”, es el descubrimiento del hombre hacia Dios, con la ayuda de la razón (Virgilio) y de la fe (Beatriz\".count('e'))#Para contar las letras de una cadena usar el metodo count\n",
        "print(\"Hola soy Sebastian\".replace('a','o'))#Como reemplazar un valor dentro de una cadenas utilizando replace"
      ]
    },
    {
      "cell_type": "code",
      "execution_count": null,
      "metadata": {
        "colab": {
          "base_uri": "https://localhost:8080/"
        },
        "id": "x3t7C8jhqzeD",
        "outputId": "c5d40f64-f0af-49db-fccc-f58da2dade26"
      },
      "outputs": [
        {
          "name": "stdout",
          "output_type": "stream",
          "text": [
            "Mi edad es 29 años\n",
            "Mi genero masculino\n"
          ]
        }
      ],
      "source": [
        "print(\"\"\"Mi edad es 29 años\n",
        "Mi genero masculino\"\"\")"
      ]
    },
    {
      "cell_type": "markdown",
      "metadata": {
        "id": "237E5hHRuGdy"
      },
      "source": [
        "**Variables** son espacios de memoria que nos sirven para guardar información particular, deben tener un nombre que nos ayuden a identificar su contenido"
      ]
    },
    {
      "cell_type": "code",
      "execution_count": null,
      "metadata": {
        "id": "0rzoZYQIs5JX"
      },
      "outputs": [],
      "source": [
        "#Para declarar una variable se usa nombre de la variable, el signo igual y el valor:\n",
        "#Ejemplo: edad=13\n",
        "nombre=\"Sebastian\"\n",
        "apellido=\"Melo\"\n",
        "edad=29\n",
        "estado_civil=\"Soltero\""
      ]
    },
    {
      "cell_type": "code",
      "execution_count": null,
      "metadata": {
        "id": "SA42zp9suyjO"
      },
      "outputs": [],
      "source": [
        "nombre=\"Sebastian\"\n",
        "nombre=\"Juan\""
      ]
    },
    {
      "cell_type": "code",
      "execution_count": null,
      "metadata": {
        "colab": {
          "base_uri": "https://localhost:8080/",
          "height": 35
        },
        "id": "o90zQXrvu-Sp",
        "outputId": "247f851b-bcad-4275-b9c0-83d2dedf3664"
      },
      "outputs": [
        {
          "data": {
            "application/vnd.google.colaboratory.intrinsic+json": {
              "type": "string"
            },
            "text/plain": [
              "'Juan'"
            ]
          },
          "execution_count": 75,
          "metadata": {},
          "output_type": "execute_result"
        }
      ],
      "source": [
        "nombre"
      ]
    },
    {
      "cell_type": "code",
      "execution_count": null,
      "metadata": {
        "id": "RZtHEUCL1HnK"
      },
      "outputs": [],
      "source": [
        "mensaje_1=\"Ahora que sé python tengo que aprender SQL\""
      ]
    },
    {
      "cell_type": "code",
      "execution_count": null,
      "metadata": {
        "colab": {
          "base_uri": "https://localhost:8080/",
          "height": 35
        },
        "id": "Q9_fW0aqv31W",
        "outputId": "4b2aa5fb-fc28-4006-eabf-c4b0bf04e011"
      },
      "outputs": [
        {
          "data": {
            "application/vnd.google.colaboratory.intrinsic+json": {
              "type": "string"
            },
            "text/plain": [
              "'Ahora que sé python tengo que aprender SQL'"
            ]
          },
          "execution_count": 77,
          "metadata": {},
          "output_type": "execute_result"
        }
      ],
      "source": [
        "mensaje_1"
      ]
    },
    {
      "cell_type": "code",
      "execution_count": null,
      "metadata": {
        "id": "V347lzaz1iTM"
      },
      "outputs": [],
      "source": [
        "#Aca no solo guarde la variable si no que la mostre de una vez\n",
        "mensaje_2=\"porque se requiere para Data\"\n",
        "mensaje_2\n",
        "espacio=\" \""
      ]
    },
    {
      "cell_type": "code",
      "execution_count": null,
      "metadata": {
        "id": "TU5xzdRy2wvh"
      },
      "outputs": [],
      "source": []
    },
    {
      "cell_type": "code",
      "execution_count": null,
      "metadata": {
        "colab": {
          "base_uri": "https://localhost:8080/",
          "height": 35
        },
        "id": "ECIb_Gef1p3m",
        "outputId": "aac60f6f-d8d4-43ca-de4a-1a0febae9200"
      },
      "outputs": [
        {
          "data": {
            "application/vnd.google.colaboratory.intrinsic+json": {
              "type": "string"
            },
            "text/plain": [
              "'Ahora que sé python tengo que aprender SQL porque se requiere para Data'"
            ]
          },
          "execution_count": 79,
          "metadata": {},
          "output_type": "execute_result"
        }
      ],
      "source": [
        "mensaje_1+\" \"+mensaje_2\n",
        "mensaje_completo=mensaje_1+espacio+mensaje_2\n",
        "mensaje_completo"
      ]
    },
    {
      "cell_type": "markdown",
      "metadata": {
        "id": "OR9nwgjG4AQa"
      },
      "source": [
        "**Listas**, son tipos de datos mutables y ordenados, son las mas usadas al trabajar con datos. Para declarar una lista uso los corchetes cuadrados [ ]"
      ]
    },
    {
      "cell_type": "code",
      "execution_count": null,
      "metadata": {
        "colab": {
          "base_uri": "https://localhost:8080/"
        },
        "id": "PWq1FiM42FPw",
        "outputId": "74eb1e70-2cfe-4f21-aac7-fb27e6ed82ef"
      },
      "outputs": [
        {
          "data": {
            "text/plain": [
              "['Colombia', 'Ecuador', 'México', 'China', 'Francia', 'Paraguay']"
            ]
          },
          "execution_count": 80,
          "metadata": {},
          "output_type": "execute_result"
        }
      ],
      "source": [
        "#Listas: Las listas se definen como el siguiente ejemplo\n",
        "#datos=[\"Sebastian\",\"Melo\",\"29\",\"Soltero\",\"1.70\"]\n",
        "paises=[\"Colombia\",\"Ecuador\",\"México\",\"China\",\"Francia\",\"Paraguay\"]\n",
        "paises"
      ]
    },
    {
      "cell_type": "code",
      "execution_count": null,
      "metadata": {
        "colab": {
          "base_uri": "https://localhost:8080/",
          "height": 35
        },
        "id": "vkXV-A1U5Ee2",
        "outputId": "430b1c9d-bcbf-4b91-bcd9-e6eb3033d486"
      },
      "outputs": [
        {
          "data": {
            "application/vnd.google.colaboratory.intrinsic+json": {
              "type": "string"
            },
            "text/plain": [
              "'México'"
            ]
          },
          "execution_count": 81,
          "metadata": {},
          "output_type": "execute_result"
        }
      ],
      "source": [
        "#Las listas tienen indices automaticos que se generan cuando creo la lista, sin embargo estos no son visibles hasta que los llamo.\n",
        "paises[-4]"
      ]
    },
    {
      "cell_type": "code",
      "execution_count": null,
      "metadata": {
        "colab": {
          "base_uri": "https://localhost:8080/",
          "height": 35
        },
        "id": "ZiCnOCVq5BIz",
        "outputId": "8d9371f2-6869-48ea-c5eb-acf6e0fa82c9"
      },
      "outputs": [
        {
          "data": {
            "application/vnd.google.colaboratory.intrinsic+json": {
              "type": "string"
            },
            "text/plain": [
              "'Francia'"
            ]
          },
          "execution_count": 82,
          "metadata": {},
          "output_type": "execute_result"
        }
      ],
      "source": [
        "#Llamara Francia desde la derecha e izquierda\n",
        "paises[-2]"
      ]
    },
    {
      "cell_type": "code",
      "execution_count": null,
      "metadata": {
        "colab": {
          "base_uri": "https://localhost:8080/",
          "height": 35
        },
        "id": "7rnYqOwA5Cji",
        "outputId": "0b6e2ac1-1eaa-44fb-8cdf-e59b2e58e780"
      },
      "outputs": [
        {
          "data": {
            "application/vnd.google.colaboratory.intrinsic+json": {
              "type": "string"
            },
            "text/plain": [
              "'Francia'"
            ]
          },
          "execution_count": 83,
          "metadata": {},
          "output_type": "execute_result"
        }
      ],
      "source": [
        "#Llamara Francia desde la izquierda\n",
        "paises[4]"
      ]
    },
    {
      "cell_type": "code",
      "execution_count": null,
      "metadata": {
        "colab": {
          "base_uri": "https://localhost:8080/"
        },
        "id": "Jaw6nrLY6peZ",
        "outputId": "cf078b2a-bfa6-4a21-aabf-2067a21751dd"
      },
      "outputs": [
        {
          "data": {
            "text/plain": [
              "['Ecuador', 'México']"
            ]
          },
          "execution_count": 84,
          "metadata": {},
          "output_type": "execute_result"
        }
      ],
      "source": [
        "#La técnica de slicing me permite cortar pedazos de lista y cudrarlos en una variable\n",
        "#Cortemos\n",
        "paises[1:3]"
      ]
    },
    {
      "cell_type": "code",
      "execution_count": null,
      "metadata": {
        "colab": {
          "base_uri": "https://localhost:8080/"
        },
        "id": "LtvODU4i656X",
        "outputId": "d193571b-6d0b-44b3-bbd2-8c1eaa8cce35"
      },
      "outputs": [
        {
          "data": {
            "text/plain": [
              "['Ecuador', 'México']"
            ]
          },
          "execution_count": 85,
          "metadata": {},
          "output_type": "execute_result"
        }
      ],
      "source": [
        "corte_paises=paises[1:3]\n",
        "corte_paises"
      ]
    },
    {
      "cell_type": "code",
      "execution_count": null,
      "metadata": {
        "colab": {
          "base_uri": "https://localhost:8080/"
        },
        "id": "8WkhNgGN7BQV",
        "outputId": "296367b2-4a5e-49bd-abf7-5b82d00eaaaa"
      },
      "outputs": [
        {
          "data": {
            "text/plain": [
              "['Ecuador', 'México', 'China', 'Francia', 'Paraguay']"
            ]
          },
          "execution_count": 86,
          "metadata": {},
          "output_type": "execute_result"
        }
      ],
      "source": [
        "paises[1:]"
      ]
    },
    {
      "cell_type": "code",
      "execution_count": null,
      "metadata": {
        "colab": {
          "base_uri": "https://localhost:8080/"
        },
        "id": "PxUPeEVt7SQV",
        "outputId": "500a8aed-6b1b-4ff1-c0aa-9b50f6650c3c"
      },
      "outputs": [
        {
          "data": {
            "text/plain": [
              "['Colombia', 'Ecuador', 'México', 'China']"
            ]
          },
          "execution_count": 87,
          "metadata": {},
          "output_type": "execute_result"
        }
      ],
      "source": [
        "paises[:4]"
      ]
    },
    {
      "cell_type": "code",
      "execution_count": null,
      "metadata": {
        "colab": {
          "base_uri": "https://localhost:8080/"
        },
        "id": "zrhiLoPv7YXs",
        "outputId": "cb86aa3c-b33f-4742-ff9f-f742c8df27cc"
      },
      "outputs": [
        {
          "data": {
            "text/plain": [
              "['Colombia', 'Ecuador', 'México', 'China', 'Francia', 'Paraguay', 'Rusia']"
            ]
          },
          "execution_count": 88,
          "metadata": {},
          "output_type": "execute_result"
        }
      ],
      "source": [
        "#Así agrego elementos al final de una listo\n",
        "paises.append(\"Rusia\")\n",
        "paises"
      ]
    },
    {
      "cell_type": "code",
      "execution_count": null,
      "metadata": {
        "colab": {
          "base_uri": "https://localhost:8080/"
        },
        "id": "iZgu9yjl70bC",
        "outputId": "e50c9b7b-657d-43da-d783-9ffbfba2856e"
      },
      "outputs": [
        {
          "data": {
            "text/plain": [
              "['Venezuela',\n",
              " 'Colombia',\n",
              " 'Ecuador',\n",
              " 'México',\n",
              " 'China',\n",
              " 'Francia',\n",
              " 'Paraguay',\n",
              " 'Rusia']"
            ]
          },
          "execution_count": 89,
          "metadata": {},
          "output_type": "execute_result"
        }
      ],
      "source": [
        "#Para agregar un dato en la posición de la lista que yo quiera uso insert\n",
        "paises.insert(0,\"Venezuela\")\n",
        "paises"
      ]
    },
    {
      "cell_type": "code",
      "execution_count": null,
      "metadata": {
        "colab": {
          "base_uri": "https://localhost:8080/"
        },
        "id": "OsuUDj0h8PV7",
        "outputId": "28daef7f-0d4c-4604-a1fa-80643ed5b0ac"
      },
      "outputs": [
        {
          "data": {
            "text/plain": [
              "['Italia', 'Alemania', 'España', 'Portugal', 'Polonia']"
            ]
          },
          "execution_count": 90,
          "metadata": {},
          "output_type": "execute_result"
        }
      ],
      "source": [
        "#También puedo concatenar listas\n",
        "paises_europa=[\"Italia\",\"Alemania\",\"España\",\"Portugal\",\"Polonia\"]\n",
        "paises_europa"
      ]
    },
    {
      "cell_type": "code",
      "execution_count": null,
      "metadata": {
        "colab": {
          "base_uri": "https://localhost:8080/"
        },
        "id": "WT5jyxi085kV",
        "outputId": "b3235bd3-ef6e-4e52-e751-86290590d2b1"
      },
      "outputs": [
        {
          "data": {
            "text/plain": [
              "['Venezuela',\n",
              " 'Colombia',\n",
              " 'Ecuador',\n",
              " 'México',\n",
              " 'China',\n",
              " 'Francia',\n",
              " 'Paraguay',\n",
              " 'Rusia',\n",
              " 'Italia',\n",
              " 'Alemania',\n",
              " 'España',\n",
              " 'Portugal',\n",
              " 'Polonia']"
            ]
          },
          "execution_count": 91,
          "metadata": {},
          "output_type": "execute_result"
        }
      ],
      "source": [
        "paises_completos=paises+paises_europa\n",
        "paises_completos\n"
      ]
    },
    {
      "cell_type": "code",
      "execution_count": null,
      "metadata": {
        "colab": {
          "base_uri": "https://localhost:8080/"
        },
        "id": "fCP4PSSq9L4A",
        "outputId": "2f6de79b-420c-4f2d-dbc1-2bc06cb0286e"
      },
      "outputs": [
        {
          "data": {
            "text/plain": [
              "[['Venezuela', 'Paraguay', 'Francia', 'Ecuador', 'Colombia'],\n",
              " ['Italia', 'Alemania', 'España', 'Portugal', 'Polonia']]"
            ]
          },
          "execution_count": 114,
          "metadata": {},
          "output_type": "execute_result"
        }
      ],
      "source": [
        "paises_completos_lista=[paises,paises_europa]\n",
        "paises_completos_lista"
      ]
    },
    {
      "cell_type": "markdown",
      "metadata": {
        "id": "KMaNuR-1DkzI"
      },
      "source": []
    },
    {
      "cell_type": "code",
      "execution_count": null,
      "metadata": {
        "colab": {
          "base_uri": "https://localhost:8080/"
        },
        "id": "YnzYGdZX92rk",
        "outputId": "7c5a284b-97f0-44e3-b83f-c4a3f8eeaa5e"
      },
      "outputs": [
        {
          "data": {
            "text/plain": [
              "['Sebastian', 'Melo', '29', '1022406990', 'Soltero', '1.70']"
            ]
          },
          "execution_count": 93,
          "metadata": {},
          "output_type": "execute_result"
        }
      ],
      "source": [
        "#Variables dentro de una lista\n",
        "nombre=\"Sebastian\"\n",
        "apellido=\"Melo\"\n",
        "edad=\"29\"\n",
        "cedula=\"1022406990\"\n",
        "estado_civil=\"Soltero\"\n",
        "estatura=\"1.70\"\n",
        "ser_humano=[nombre,apellido,edad,cedula,estado_civil,estatura]\n",
        "ser_humano\n",
        "\n"
      ]
    },
    {
      "cell_type": "code",
      "execution_count": null,
      "metadata": {
        "colab": {
          "base_uri": "https://localhost:8080/"
        },
        "id": "ZCDPeEL59CP_",
        "outputId": "7d752a0b-6daf-4bdd-cbdb-2618eac33354"
      },
      "outputs": [
        {
          "data": {
            "text/plain": [
              "['Madre', 48, 'Padre', 50, 'Hijo', 29, 'Abuela', 72, 'Prima', 28]"
            ]
          },
          "execution_count": 94,
          "metadata": {},
          "output_type": "execute_result"
        }
      ],
      "source": [
        "#Agregar a la lista\n",
        "familiares=[]\n",
        "familiares.append(\"Madre\")\n",
        "familiares.insert(1,48)\n",
        "familiares.append(\"Padre\")\n",
        "familiares.insert(3,50)\n",
        "familiares.append(\"Hijo\")\n",
        "familiares.insert(5,29)\n",
        "familiares.append(\"Abuela\")\n",
        "familiares.insert(7,72)\n",
        "familiares.append(\"Prima\")\n",
        "familiares.insert(9,28)\n",
        "familiares\n",
        "\n"
      ]
    },
    {
      "cell_type": "code",
      "execution_count": null,
      "metadata": {
        "colab": {
          "base_uri": "https://localhost:8080/"
        },
        "id": "pVQw0NE_I4a0",
        "outputId": "a2a5003b-45a0-44da-a122-f064f11d1f87"
      },
      "outputs": [
        {
          "name": "stdout",
          "output_type": "stream",
          "text": [
            "Ingresa tu edad 15\n",
            "Ingresa tu nombre Sebastian\n",
            "Sebastian y como es tu apellido\n"
          ]
        }
      ],
      "source": [
        "#Esta función me sirve para tomar datos\n",
        "edad_1=input(\"Ingresa tu edad \")\n",
        "nombre_1=input(\"Ingresa tu nombre \")\n",
        "print(nombre_1,\"y como es tu apellido\")\n",
        "\n",
        "\n",
        "\n",
        "\n"
      ]
    },
    {
      "cell_type": "code",
      "execution_count": null,
      "metadata": {
        "colab": {
          "base_uri": "https://localhost:8080/"
        },
        "id": "V9x39R17LtEj",
        "outputId": "2cbb0151-48d7-4ddc-af58-b47131594a8f"
      },
      "outputs": [
        {
          "data": {
            "text/plain": [
              "['Venezuela', 'Colombia', 'Ecuador', 'México', 'China', 'Francia', 'Paraguay']"
            ]
          },
          "execution_count": 96,
          "metadata": {},
          "output_type": "execute_result"
        }
      ],
      "source": [
        "#Para remover datos de las listas utulizo el método remove\n",
        "paises.remove(\"Rusia\")\n",
        "paises"
      ]
    },
    {
      "cell_type": "code",
      "execution_count": null,
      "metadata": {
        "colab": {
          "base_uri": "https://localhost:8080/",
          "height": 35
        },
        "id": "GPG7cXAkMGNV",
        "outputId": "445655c5-a496-48ef-c01c-6e8f577c793f"
      },
      "outputs": [
        {
          "data": {
            "application/vnd.google.colaboratory.intrinsic+json": {
              "type": "string"
            },
            "text/plain": [
              "'China'"
            ]
          },
          "execution_count": 97,
          "metadata": {},
          "output_type": "execute_result"
        }
      ],
      "source": [
        "#Para remover datos por posición se utuliza el método pop\n",
        "paises.pop(4)"
      ]
    },
    {
      "cell_type": "code",
      "execution_count": null,
      "metadata": {
        "colab": {
          "base_uri": "https://localhost:8080/"
        },
        "id": "2E7CB_87MXJL",
        "outputId": "7d48c62c-e780-4f35-81b1-f7626c9e08c1"
      },
      "outputs": [
        {
          "data": {
            "text/plain": [
              "['Venezuela', 'Colombia', 'Ecuador', 'Francia', 'Paraguay']"
            ]
          },
          "execution_count": 98,
          "metadata": {},
          "output_type": "execute_result"
        }
      ],
      "source": [
        "#Para eliminar definitibamente se utiliza el método del\n",
        "del paises[3]\n",
        "paises"
      ]
    },
    {
      "cell_type": "code",
      "execution_count": null,
      "metadata": {
        "colab": {
          "base_uri": "https://localhost:8080/"
        },
        "id": "Q3qwT8VyMW_L",
        "outputId": "95db7a6f-3445-46fb-a00b-069fed374182"
      },
      "outputs": [
        {
          "data": {
            "text/plain": [
              "[9, 8, 7, 6, 5, 4, 3, 2, 1]"
            ]
          },
          "execution_count": 99,
          "metadata": {},
          "output_type": "execute_result"
        }
      ],
      "source": [
        "#Ordenar las listas, se pueden ordenar de mayor a menor o alfabeticamente, con el método sort\n",
        "paises.sort()\n",
        "paises\n",
        "digitos=[2,4,5,7,3,8,9,6,1]\n",
        "digitos.sort()\n",
        "digitos\n",
        "digitos.sort(reverse=True)\n",
        "digitos"
      ]
    },
    {
      "cell_type": "code",
      "execution_count": null,
      "metadata": {
        "colab": {
          "base_uri": "https://localhost:8080/"
        },
        "id": "OEf2hQYAPKoP",
        "outputId": "3a693450-4a74-42b6-96c3-bc407c64a8b1"
      },
      "outputs": [
        {
          "data": {
            "text/plain": [
              "['Venezuela', 'Paraguay', 'Francia', 'Ecuador', 'Colombia']"
            ]
          },
          "execution_count": 100,
          "metadata": {},
          "output_type": "execute_result"
        }
      ],
      "source": [
        "paises.sort(reverse=True)\n",
        "paises"
      ]
    },
    {
      "cell_type": "code",
      "execution_count": null,
      "metadata": {
        "colab": {
          "base_uri": "https://localhost:8080/"
        },
        "id": "KqC-Re0aPcIe",
        "outputId": "416f4a3b-96fc-46ee-e74e-20f7516cd9ac"
      },
      "outputs": [
        {
          "data": {
            "text/plain": [
              "['Venezuela', 'Paraguay', 'Francia', 'Ecuador', 'Colombia']"
            ]
          },
          "execution_count": 101,
          "metadata": {},
          "output_type": "execute_result"
        }
      ],
      "source": [
        "#Método para realizar una copia de una base\n",
        "paises_copia_verdadera=paises.copy()\n",
        "paises_copia_verdadera"
      ]
    },
    {
      "cell_type": "code",
      "execution_count": null,
      "metadata": {
        "colab": {
          "base_uri": "https://localhost:8080/"
        },
        "id": "ym7us06TPytH",
        "outputId": "3b0501a7-d258-41b1-f94b-2a0539ff3da6"
      },
      "outputs": [
        {
          "data": {
            "text/plain": [
              "['Venezuela', 'Paraguay', 'Francia', 'Ecuador', 'Colombia']"
            ]
          },
          "execution_count": 102,
          "metadata": {},
          "output_type": "execute_result"
        }
      ],
      "source": [
        "paises_copia_verdadera2=paises[:]\n",
        "paises_copia_verdadera2"
      ]
    },
    {
      "cell_type": "markdown",
      "metadata": {
        "id": "XaJnlq9aQMXY"
      },
      "source": [
        "Los diccionarios son tipos de datos que tienen una llave y un valor, a la combinación de llave con un valor se conoce como item, en los diccionarios puedo usar métodos parecidos a los de las listas"
      ]
    },
    {
      "cell_type": "code",
      "execution_count": null,
      "metadata": {
        "colab": {
          "base_uri": "https://localhost:8080/"
        },
        "id": "tNUyriZbQZto",
        "outputId": "2c3c9cc3-b008-4cc5-cae6-eb72dd817757"
      },
      "outputs": [
        {
          "data": {
            "text/plain": [
              "{'casa': 'house', 'carro': 'car', 'sediento': 'thirty', 'ocupado': 'bussy'}"
            ]
          },
          "execution_count": 103,
          "metadata": {},
          "output_type": "execute_result"
        }
      ],
      "source": [
        "diccionario_ing_esp={\"casa\":\"house\",\"carro\":\"car\",\"sediento\":\"thirty\",\"ocupado\":\"bussy\"}\n",
        "diccionario_ing_esp"
      ]
    },
    {
      "cell_type": "code",
      "execution_count": null,
      "metadata": {
        "colab": {
          "base_uri": "https://localhost:8080/",
          "height": 35
        },
        "id": "4gHc7x8JSUXg",
        "outputId": "0b52b34d-8e4f-4223-d6be-7b8ed40065f1"
      },
      "outputs": [
        {
          "data": {
            "application/vnd.google.colaboratory.intrinsic+json": {
              "type": "string"
            },
            "text/plain": [
              "'house'"
            ]
          },
          "execution_count": 104,
          "metadata": {},
          "output_type": "execute_result"
        }
      ],
      "source": [
        "#Para ver un valor de una llave determinada lo hago de la siguiente manera\n",
        "diccionario_ing_esp[\"casa\"]"
      ]
    },
    {
      "cell_type": "code",
      "execution_count": null,
      "metadata": {
        "colab": {
          "base_uri": "https://localhost:8080/"
        },
        "id": "GTLXXKBASez4",
        "outputId": "9a551967-fc80-439f-9f0a-d66cdce22a56"
      },
      "outputs": [
        {
          "data": {
            "text/plain": [
              "dict_keys(['casa', 'carro', 'sediento', 'ocupado'])"
            ]
          },
          "execution_count": 105,
          "metadata": {},
          "output_type": "execute_result"
        }
      ],
      "source": [
        "#Para traer todas las llaves de un diccionario, puedo usar el médtodo keys\n",
        "diccionario_ing_esp.keys()"
      ]
    },
    {
      "cell_type": "code",
      "execution_count": null,
      "metadata": {
        "colab": {
          "base_uri": "https://localhost:8080/"
        },
        "id": "4sLMkduTSt9h",
        "outputId": "904d98e4-643e-4875-eeaa-ba0e6f3f39b8"
      },
      "outputs": [
        {
          "data": {
            "text/plain": [
              "dict_values(['house', 'car', 'thirty', 'bussy'])"
            ]
          },
          "execution_count": 106,
          "metadata": {},
          "output_type": "execute_result"
        }
      ],
      "source": [
        "#Para llamar los valores uso values\n",
        "diccionario_ing_esp.values()\n"
      ]
    },
    {
      "cell_type": "code",
      "execution_count": null,
      "metadata": {
        "colab": {
          "base_uri": "https://localhost:8080/"
        },
        "id": "6cyQQzFtS3f3",
        "outputId": "eee92d2f-9d3d-4b89-ab3a-40fe8ee62a0c"
      },
      "outputs": [
        {
          "data": {
            "text/plain": [
              "dict_items([('casa', 'house'), ('carro', 'car'), ('sediento', 'thirty'), ('ocupado', 'bussy')])"
            ]
          },
          "execution_count": 107,
          "metadata": {},
          "output_type": "execute_result"
        }
      ],
      "source": [
        "#Para traer todo se puede de 2 maneras\n",
        "diccionario_ing_esp\n",
        "diccionario_ing_esp.items()"
      ]
    },
    {
      "cell_type": "code",
      "execution_count": null,
      "metadata": {
        "colab": {
          "base_uri": "https://localhost:8080/"
        },
        "id": "veMyk84vTHTP",
        "outputId": "51400d97-7eeb-4f6f-fc49-09474832ab38"
      },
      "outputs": [
        {
          "data": {
            "text/plain": [
              "dict"
            ]
          },
          "execution_count": 108,
          "metadata": {},
          "output_type": "execute_result"
        }
      ],
      "source": [
        "type(diccionario_ing_esp)"
      ]
    },
    {
      "cell_type": "code",
      "execution_count": null,
      "metadata": {
        "id": "3457X-OUT4_J"
      },
      "outputs": [],
      "source": []
    },
    {
      "cell_type": "code",
      "execution_count": null,
      "metadata": {
        "colab": {
          "base_uri": "https://localhost:8080/"
        },
        "id": "QFzG_ozITM1Y",
        "outputId": "35ae192a-c55e-441e-e7f3-ea91f0d88aad"
      },
      "outputs": [
        {
          "data": {
            "text/plain": [
              "{'casa': 'house',\n",
              " 'carro': 'car',\n",
              " 'sediento': 'thirty',\n",
              " 'ocupado': 'bussy',\n",
              " 'azul': 'blue'}"
            ]
          },
          "execution_count": 109,
          "metadata": {},
          "output_type": "execute_result"
        }
      ],
      "source": [
        "#Para agregar un nuevo elemento a un diccionario lo hago de la siguiente manera\n",
        "diccionario_ing_esp[\"azul\"]=\"blue\"\n",
        "diccionario_ing_esp"
      ]
    },
    {
      "cell_type": "code",
      "execution_count": null,
      "metadata": {
        "colab": {
          "base_uri": "https://localhost:8080/",
          "height": 193
        },
        "id": "DfihQqazTqC5",
        "outputId": "9ac25a80-c3bc-4e69-8ca8-e8c8bc929eeb"
      },
      "outputs": [
        {
          "ename": "KeyError",
          "evalue": "'zul'",
          "output_type": "error",
          "traceback": [
            "\u001b[0;31m---------------------------------------------------------------------------\u001b[0m",
            "\u001b[0;31mKeyError\u001b[0m                                  Traceback (most recent call last)",
            "\u001b[0;32m<ipython-input-110-4aa278fb8695>\u001b[0m in \u001b[0;36m<cell line: 3>\u001b[0;34m()\u001b[0m\n\u001b[1;32m      1\u001b[0m \u001b[0;31m#Para actualizar un dato uso update\u001b[0m\u001b[0;34m\u001b[0m\u001b[0;34m\u001b[0m\u001b[0m\n\u001b[1;32m      2\u001b[0m \u001b[0mdiccionario_ing_esp\u001b[0m\u001b[0;34m.\u001b[0m\u001b[0mupdate\u001b[0m\u001b[0;34m(\u001b[0m\u001b[0;34m{\u001b[0m\u001b[0;34m\"negro\"\u001b[0m\u001b[0;34m:\u001b[0m\u001b[0;34m\"black\"\u001b[0m\u001b[0;34m}\u001b[0m\u001b[0;34m)\u001b[0m\u001b[0;34m\u001b[0m\u001b[0;34m\u001b[0m\u001b[0m\n\u001b[0;32m----> 3\u001b[0;31m \u001b[0mdiccionario_ing_esp\u001b[0m\u001b[0;34m.\u001b[0m\u001b[0mpop\u001b[0m\u001b[0;34m(\u001b[0m\u001b[0;34m'zul'\u001b[0m\u001b[0;34m)\u001b[0m\u001b[0;34m\u001b[0m\u001b[0;34m\u001b[0m\u001b[0m\n\u001b[0m\u001b[1;32m      4\u001b[0m \u001b[0mdiccionario_ing_esp\u001b[0m\u001b[0;34m\u001b[0m\u001b[0;34m\u001b[0m\u001b[0m\n",
            "\u001b[0;31mKeyError\u001b[0m: 'zul'"
          ]
        }
      ],
      "source": [
        "#Para actualizar un dato uso update\n",
        "diccionario_ing_esp.update({\"negro\":\"black\"})\n",
        "diccionario_ing_esp.pop('zul')\n",
        "diccionario_ing_esp"
      ]
    },
    {
      "cell_type": "code",
      "execution_count": null,
      "metadata": {
        "id": "qx9CSQ1jUG_y"
      },
      "outputs": [],
      "source": [
        "#Tambien puedo agregar una lista a un diccionario\n",
        "diccionario_ing_esp.update({\"gris\":\"gris\",\"pronombres\":[\"he\",\"she\",\"it\"]})\n",
        "diccionario_ing_esp"
      ]
    },
    {
      "cell_type": "code",
      "execution_count": null,
      "metadata": {
        "id": "N6bwTlDlVU-n"
      },
      "outputs": [],
      "source": [
        "#Para borrar uso el método pop\n",
        "diccionario_ing_esp.pop(\"gris\")\n",
        "diccionario_ing_esp"
      ]
    },
    {
      "cell_type": "code",
      "execution_count": null,
      "metadata": {
        "id": "vUaw0A4LVnf9"
      },
      "outputs": [],
      "source": [
        "#Para eliminar del diccionario podemos usar tambien del\n",
        "del diccionario_ing_esp[\"pronombres\"]\n",
        "diccionario_ing_esp"
      ]
    },
    {
      "cell_type": "code",
      "execution_count": null,
      "metadata": {
        "id": "TT1p_X8IbbxE"
      },
      "outputs": [],
      "source": []
    },
    {
      "cell_type": "markdown",
      "metadata": {
        "id": "QPbo-JaMbfRs"
      },
      "source": [
        "Operadores lógicos se usan para comprobar condiciones y devolver True o False, dependiendo cual sea el caso. Son escenciales para la toma de decisiones y para la creaciópn de la lógica de programación\n"
      ]
    },
    {
      "cell_type": "code",
      "execution_count": null,
      "metadata": {
        "id": "436ou2jZbfKs"
      },
      "outputs": [],
      "source": []
    },
    {
      "cell_type": "code",
      "execution_count": null,
      "metadata": {
        "id": "gBYp-117bs2D"
      },
      "outputs": [],
      "source": [
        "#El primero es and\n",
        "print(\"operador and (que significa y)\")\n",
        "print(\"Para que sea verdadero todas las conidicones deben ser verdaderas\")\n",
        "5>3 and 5<10\n"
      ]
    },
    {
      "cell_type": "code",
      "execution_count": null,
      "metadata": {
        "id": "zn3JDu4YcTCU"
      },
      "outputs": [],
      "source": [
        "5<3 and 5<10"
      ]
    },
    {
      "cell_type": "code",
      "execution_count": null,
      "metadata": {
        "id": "Fzwsc-_ecfmr"
      },
      "outputs": [],
      "source": [
        "#El segundo es or\n",
        "print(\"operador or (que significa o)\")\n",
        "print(\"Para que sea verdadero todas por lo menos una de las condiciones debe ser verdadera\")\n",
        "5<3 or 5>10\n"
      ]
    },
    {
      "cell_type": "code",
      "execution_count": null,
      "metadata": {
        "id": "s8t7jGZ7dL-d"
      },
      "outputs": [],
      "source": [
        "#Existe otro operador lógico que es NOT\n",
        "print(\"Operador NOT (la negación lógica) \")\n",
        "not 5>3"
      ]
    },
    {
      "cell_type": "code",
      "execution_count": null,
      "metadata": {
        "id": "3OZWeRthd0jH"
      },
      "outputs": [],
      "source": []
    },
    {
      "cell_type": "markdown",
      "metadata": {
        "id": "WEIVb6Kqdngo"
      },
      "source": [
        "  Operaciones matemáticas basicas para cualquier lenguaje de programación, suma, resta, multiplicación, división, potenciación y módulo\n",
        "  "
      ]
    },
    {
      "cell_type": "code",
      "execution_count": null,
      "metadata": {
        "id": "kp-VUJl9dmzR"
      },
      "outputs": [],
      "source": []
    },
    {
      "cell_type": "code",
      "execution_count": null,
      "metadata": {
        "id": "1OfoVdXBd9Uw"
      },
      "outputs": [],
      "source": [
        "#Suma se representa con el simbolo + y sirve para concatenar\n",
        "6+4"
      ]
    },
    {
      "cell_type": "code",
      "execution_count": null,
      "metadata": {
        "id": "ICkBdme9d-ra"
      },
      "outputs": [],
      "source": [
        "#Resta se representa con el simbolo -\n",
        "6-4"
      ]
    },
    {
      "cell_type": "code",
      "execution_count": null,
      "metadata": {
        "id": "FEdestBieE0W"
      },
      "outputs": [],
      "source": [
        "#Multiplicación se representa con el simbolo * tambien sirve para multiplicar cadenas\n",
        "6*4"
      ]
    },
    {
      "cell_type": "markdown",
      "metadata": {
        "id": "AZW-za-Nbdbv"
      },
      "source": []
    },
    {
      "cell_type": "code",
      "execution_count": null,
      "metadata": {
        "id": "ubOPlGCveVBd"
      },
      "outputs": [],
      "source": [
        "#División se representa con el simbolo /\n",
        "38/3"
      ]
    },
    {
      "cell_type": "code",
      "execution_count": null,
      "metadata": {
        "id": "78t2YtEeeU1Q"
      },
      "outputs": [],
      "source": []
    },
    {
      "cell_type": "code",
      "execution_count": null,
      "metadata": {
        "id": "NUTdqFmheh-V"
      },
      "outputs": [],
      "source": [
        "#Potenciación se representa con el simbolo **, primero la base luego ** y al final el exponente 5**5\n",
        "6**3"
      ]
    },
    {
      "cell_type": "code",
      "execution_count": null,
      "metadata": {
        "id": "og4_XkU5e0w8"
      },
      "outputs": [],
      "source": [
        "#Metodo se representa con el simbolo %\n",
        "23%4\n"
      ]
    },
    {
      "cell_type": "markdown",
      "metadata": {
        "id": "zlIYo4LVfmU9"
      },
      "source": [
        "Operadores de comparación, nos sirven para comparar valores y saber si la comparación es verdera o falsa. Para compara si dos valores son iguales uso el doble igual =="
      ]
    },
    {
      "cell_type": "code",
      "execution_count": null,
      "metadata": {
        "id": "fCzz-nUVfl31"
      },
      "outputs": [],
      "source": [
        "(3+29)==21"
      ]
    },
    {
      "cell_type": "code",
      "execution_count": null,
      "metadata": {
        "id": "K_K9hqQbf5ze"
      },
      "outputs": [],
      "source": [
        "#Para hacer una comparación diferente de, uso !=\n",
        "(3+29)!=21"
      ]
    },
    {
      "cell_type": "code",
      "execution_count": null,
      "metadata": {
        "id": "ePYTgozmfs8z"
      },
      "outputs": [],
      "source": []
    },
    {
      "cell_type": "code",
      "execution_count": null,
      "metadata": {
        "id": "2RMXpNqMgHCn"
      },
      "outputs": [],
      "source": [
        "#Mayor que < y menor que >\n",
        "24>21"
      ]
    },
    {
      "cell_type": "code",
      "execution_count": null,
      "metadata": {
        "id": "xaL9g0pogciW"
      },
      "outputs": [],
      "source": [
        "#Menor o igual o mayor a >= y <= que\n",
        "21>=22"
      ]
    },
    {
      "cell_type": "markdown",
      "metadata": {
        "id": "vsrha6zvg3ww"
      },
      "source": [
        "Condicionales: me permite ejectura un bloque de código si es verdadera o falsa, sirve como entes de control. Su sintaxis es de la siguiente manera, las condicionales en python sin **if** **elif** **else**"
      ]
    },
    {
      "cell_type": "code",
      "execution_count": null,
      "metadata": {
        "id": "1qC94_BrhO6P"
      },
      "outputs": [],
      "source": [
        "#if condición:\n",
        "  #(codigo que quiero ejecutar)\n",
        "#else:\n",
        "  #(código a ejecutar)"
      ]
    },
    {
      "cell_type": "code",
      "execution_count": null,
      "metadata": {
        "id": "LtqBozZ5hir1"
      },
      "outputs": [],
      "source": [
        "edad_michael=int(input(\"Ingrese su edad \"))\n",
        "if edad_michael>=18:\n",
        "  print(\"Michael bienvenido puedes aceptar\")\n",
        "else:\n",
        "    print(\"Michael, estas muy chiquito\")"
      ]
    },
    {
      "cell_type": "code",
      "execution_count": null,
      "metadata": {
        "id": "mQmq7X_tg1k3"
      },
      "outputs": [],
      "source": [
        "if \"Francia\" not in paises:\n",
        "  print(\"Esta pais no es latinoamericano\")\n",
        "else:\n",
        "  print(\"Suramericano\")"
      ]
    },
    {
      "cell_type": "code",
      "execution_count": null,
      "metadata": {
        "id": "xBH7MAbDfEGI"
      },
      "outputs": [],
      "source": [
        "nombre=input(\"Ingresa tu nombre\")\n",
        "edad=int(input(\"Ingresa tu edad\"))\n",
        "if edad >= 18:\n",
        "  print (nombre,\"eres mayor de edad\")\n",
        "else:\n",
        "   print(nombre, \"eres menor de edad\")"
      ]
    },
    {
      "cell_type": "code",
      "execution_count": null,
      "metadata": {
        "id": "OVQpK7SZi35s"
      },
      "outputs": [],
      "source": [
        "numero=int(input(\"Ingrese el numero para calcular el cuadrado\"))\n",
        "print((\"El cuadrado de tu número es\",numero**2))"
      ]
    },
    {
      "cell_type": "code",
      "execution_count": null,
      "metadata": {
        "id": "QRLP-FpwkglM"
      },
      "outputs": [],
      "source": [
        "#Condicional de un programa que verifique si una persona tiene entre 13 y 18 años o es mayor de edad pero tambien que me diga si es hombre o mujer"
      ]
    },
    {
      "cell_type": "code",
      "execution_count": null,
      "metadata": {
        "id": "QHo9Fg9KkrFE"
      },
      "outputs": [],
      "source": [
        "edad_5=int(input(\"Ingresa tu edad\"))\n",
        "genero=input(\"Ingresa tu genero\")\n",
        "if edad_5 >= 18:\n",
        "  print (\"Eres mayor de edad y eres de genero\",genero)\n",
        "elif edad_5 > 13 and edad_5 <18:\n",
        "  print (\"Eres mayor de 13 años pero no mayor de edad y eres de genero\", genero)\n",
        "else:\n",
        "  print (\"Eres menor de 13 años y tu genero es\", genero)\n"
      ]
    },
    {
      "cell_type": "code",
      "execution_count": null,
      "metadata": {
        "id": "Hx1wCtoNr7d-"
      },
      "outputs": [],
      "source": [
        "numero_par=int(input(\"Ingresa un número para indicar si es par o impar\"))\n",
        "if numero_par%2==0:\n",
        "  print(\"Tu numero es par\")\n",
        "else:\n",
        "  print (\"Tu numero es impar\")"
      ]
    },
    {
      "cell_type": "markdown",
      "metadata": {
        "id": "Z2xAY-4HsB-9"
      },
      "source": []
    },
    {
      "cell_type": "markdown",
      "metadata": {
        "id": "ZVEOGWrQsBzi"
      },
      "source": []
    },
    {
      "cell_type": "markdown",
      "metadata": {
        "id": "QcxFCqLst_o7"
      },
      "source": [
        "#CICLOS Y BUCLES"
      ]
    },
    {
      "cell_type": "code",
      "execution_count": null,
      "metadata": {
        "id": "phWE9Sjsodik"
      },
      "outputs": [],
      "source": [
        "#Son estruturas de código que me permiten iterar sobre una estructura o rango, existen dos tipos de ciclos mas usados, los FOR que significan para o los  que significan mientras que (de esta manera vamos a usar ciclos FOR)"
      ]
    },
    {
      "cell_type": "code",
      "execution_count": null,
      "metadata": {
        "colab": {
          "base_uri": "https://localhost:8080/"
        },
        "id": "SCL6xmFBuU4L",
        "outputId": "fec85de9-c5c5-4a75-b5bd-3e14199a6340"
      },
      "outputs": [
        {
          "name": "stdout",
          "output_type": "stream",
          "text": [
            "Venezuela\n",
            "Colombia\n",
            "Ecuador\n",
            "México\n",
            "China\n",
            "Francia\n",
            "Paraguay\n",
            "Rusia\n",
            "Italia\n",
            "Alemania\n",
            "España\n",
            "Portugal\n",
            "Polonia\n"
          ]
        }
      ],
      "source": [
        "#for <variable>in<lista>:\n",
        "  #<ejecutable>\n",
        "for i in paises_completos:\n",
        "  print(i)\n"
      ]
    },
    {
      "cell_type": "code",
      "execution_count": null,
      "metadata": {
        "id": "5nIufYPbwpx1"
      },
      "outputs": [],
      "source": [
        "for i in paises_completos:\n",
        "  if i ==\"China\":\n",
        "    print(i,\"Este país es infiltrado\")"
      ]
    },
    {
      "cell_type": "code",
      "execution_count": null,
      "metadata": {
        "colab": {
          "base_uri": "https://localhost:8080/"
        },
        "id": "fIQR33Akw_g6",
        "outputId": "81a75ea2-2614-4414-d4c1-2378bd3cdbc0"
      },
      "outputs": [
        {
          "name": "stdout",
          "output_type": "stream",
          "text": [
            "0\n",
            "Venezuela\n",
            "1\n",
            "Colombia\n",
            "2\n",
            "Ecuador\n",
            "3\n",
            "México\n",
            "4\n",
            "China\n",
            "5\n",
            "Francia\n",
            "6\n",
            "Paraguay\n",
            "7\n",
            "Rusia\n",
            "8\n",
            "Italia\n",
            "9\n",
            "Alemania\n",
            "10\n",
            "España\n",
            "11\n",
            "Portugal\n",
            "12\n",
            "Polonia\n"
          ]
        }
      ],
      "source": [
        "for numero, i in enumerate(paises_completos):\n",
        "  print(numero)\n",
        "  print(i)"
      ]
    },
    {
      "cell_type": "code",
      "execution_count": null,
      "metadata": {
        "id": "eO0YdZsV3Boe"
      },
      "outputs": [],
      "source": []
    },
    {
      "cell_type": "markdown",
      "metadata": {
        "id": "DiQVYLfO3A1P"
      },
      "source": [
        "FUNCIONES\n"
      ]
    },
    {
      "cell_type": "code",
      "execution_count": null,
      "metadata": {
        "colab": {
          "base_uri": "https://localhost:8080/"
        },
        "id": "323AmC5GuFkd",
        "outputId": "3db28d0f-58d1-4f11-da5e-44822852e52d"
      },
      "outputs": [
        {
          "name": "stdout",
          "output_type": "stream",
          "text": [
            "0\n",
            "5\n",
            "10\n",
            "15\n",
            "20\n",
            "25\n",
            "30\n",
            "35\n",
            "40\n",
            "45\n",
            "50\n",
            "55\n",
            "60\n",
            "65\n",
            "70\n",
            "75\n",
            "80\n",
            "85\n",
            "90\n",
            "95\n",
            "100\n",
            "105\n",
            "110\n",
            "115\n",
            "120\n",
            "125\n",
            "130\n",
            "135\n",
            "140\n",
            "145\n",
            "150\n",
            "155\n",
            "160\n",
            "165\n",
            "170\n",
            "175\n",
            "180\n",
            "185\n",
            "190\n",
            "195\n"
          ]
        }
      ],
      "source": [
        "#len me da la longitud de una regla\n",
        "len(paises_completos)\n",
        "#max me sirve para mostrar el numero mas grande la regla\n",
        "max([1,4,5,7,14,13,16,9,3])\n",
        "#min me sirve para mostrar el numero mas bajo de la regla\n",
        "min([1,4,5,7,14,13,16,9,3])\n",
        "#type me sirve para saber el tipo de dato de una variables\n",
        "type([1,4,5,7,14,13,16,9,3])\n",
        "#round me sirve para redondear decimales\n",
        "round(3.141624,2)\n",
        "#range me sirve para crear una secuencia de número, tiene 3 argunmentos, el inicio, el final y el paso\n",
        "rango=range(0,200,5)\n",
        "for i in rango:\n",
        "  print(i)\n"
      ]
    },
    {
      "cell_type": "code",
      "execution_count": null,
      "metadata": {
        "id": "3Xu0krTW40-q"
      },
      "outputs": [],
      "source": [
        "#Las funciones propias son las que yo creo y me sirven para reutilizar código.\n",
        "#La palabra reservada para declarar una función es DEF\n",
        "def suma(a,b):\n",
        "  resultado=a+b\n",
        "  return resultado"
      ]
    },
    {
      "cell_type": "code",
      "execution_count": null,
      "metadata": {
        "colab": {
          "base_uri": "https://localhost:8080/"
        },
        "id": "DAX4ghlE5X2j",
        "outputId": "f6a0b45e-54ea-43b5-ede1-fb7fa0846c9e"
      },
      "outputs": [
        {
          "data": {
            "text/plain": [
              "22901"
            ]
          },
          "execution_count": 142,
          "metadata": {},
          "output_type": "execute_result"
        }
      ],
      "source": [
        "suma (678,22223)"
      ]
    },
    {
      "cell_type": "code",
      "execution_count": null,
      "metadata": {
        "id": "oETTpEf45igL"
      },
      "outputs": [],
      "source": [
        "def pan(unidad,precio):\n",
        "  resultado=unidad*precio\n",
        "  return resultado\n"
      ]
    },
    {
      "cell_type": "code",
      "execution_count": null,
      "metadata": {
        "colab": {
          "base_uri": "https://localhost:8080/"
        },
        "id": "W4Ad8E0O5hkc",
        "outputId": "ba34d521-25c4-44e9-9522-b49de69e1d5d"
      },
      "outputs": [
        {
          "data": {
            "text/plain": [
              "112000"
            ]
          },
          "execution_count": 150,
          "metadata": {},
          "output_type": "execute_result"
        }
      ],
      "source": [
        "pan (56,2000)"
      ]
    },
    {
      "cell_type": "code",
      "execution_count": null,
      "metadata": {
        "colab": {
          "base_uri": "https://localhost:8080/"
        },
        "id": "wPmT5Urt6Flr",
        "outputId": "8471e593-3b3e-4df5-b0e5-d1b9ab1a6aeb"
      },
      "outputs": [
        {
          "name": "stdout",
          "output_type": "stream",
          "text": [
            "Ingrese la cantidad de panes89\n",
            "Ingrese el valor de cada pan1000\n"
          ]
        },
        {
          "data": {
            "text/plain": [
              "89000"
            ]
          },
          "execution_count": 158,
          "metadata": {},
          "output_type": "execute_result"
        }
      ],
      "source": [
        "#recibir por consola el precio del pan y cuantos panes quiere para dar el valor total\n",
        "unidad=int(input(\"Ingrese la cantidad de panes\"))\n",
        "precio=int(input(\"Ingrese el valor de cada pan\"))\n",
        "pan(unidad,precio)"
      ]
    },
    {
      "cell_type": "code",
      "execution_count": null,
      "metadata": {
        "id": "EIdXxfNs82I3"
      },
      "outputs": [],
      "source": [
        "def division(a,b):\n",
        "  resultado=a/b\n",
        "  return resultado"
      ]
    },
    {
      "cell_type": "code",
      "execution_count": null,
      "metadata": {
        "colab": {
          "base_uri": "https://localhost:8080/"
        },
        "id": "PFxbcI9L9EXE",
        "outputId": "f525165f-6399-4e4b-bf50-3be159f69306"
      },
      "outputs": [
        {
          "data": {
            "text/plain": [
              "2.5"
            ]
          },
          "execution_count": 161,
          "metadata": {},
          "output_type": "execute_result"
        }
      ],
      "source": [
        "division(5,2)"
      ]
    },
    {
      "cell_type": "code",
      "execution_count": null,
      "metadata": {
        "id": "0pADuVGD9WG3"
      },
      "outputs": [],
      "source": []
    },
    {
      "cell_type": "markdown",
      "metadata": {
        "id": "IYv-aadZ93PU"
      },
      "source": [
        "#Escribe un programa que calcule el total de una compra de supermercado. El usuario debe ingresar el precio de 2 productos y la cantidad que desee comprar de cada una. Luego el programa debera permitir al usuario:\n",
        "#sumar los precios de ambos productos. Multiplicar los precios por las cantidad de producto para obtener el costo total. Restar un descuento del precio total(si el usuario tiene cupón).Dividir el total entre 2 personas por si desean dividir la cuenta"
      ]
    },
    {
      "cell_type": "code",
      "execution_count": null,
      "metadata": {
        "id": "GDxrjocD94vm"
      },
      "outputs": [],
      "source": [
        "def suma_mercado(a,b):\n",
        "  resultado=a+b\n",
        "  return resultado\n",
        "\n",
        "def resta_mercado(a,b):\n",
        "  resultado=a-b\n",
        "  return resultado\n",
        "\n",
        "def multiplicacion_mercado(a,b):\n",
        "  resultado=a*b\n",
        "  return resultado\n",
        "\n",
        "def division_mercado(a,b):\n",
        "  resultado=a/b\n",
        "  return resultado"
      ]
    },
    {
      "cell_type": "code",
      "execution_count": null,
      "metadata": {
        "colab": {
          "background_save": true,
          "base_uri": "https://localhost:8080/"
        },
        "id": "qzkkdM3t9y9n",
        "outputId": "c5f538f8-a422-42e7-d5d9-329b9c914ead"
      },
      "outputs": [
        {
          "name": "stdout",
          "output_type": "stream",
          "text": [
            "Bienvenido al supermercado\n"
          ]
        }
      ],
      "source": [
        "print (\"Bienvenido al supermercado\")\n",
        "nombre_producto1=input(\"Ingrese el nombre del primer producto\")\n",
        "nombre_producto2=input(\"Ingrese el nombre del segundo producto\")\n",
        "cantidad_producto1=int(input(\"Ingrese la cantidad de:\")),nombre_producto1\n",
        "print (valor_producto1=(int(input(\"Ingrese el valor de:\")),nombre_producto1))\n",
        "cantidad_producto2=int(input(\"Ingrese la cantidad de:\")),nombre_producto2\n",
        "valor_producto2=int(input(\"Ingrese el valor de:\")),nombre_producto2\n",
        "descuento=int(input(\"Ingrese el valor del descuento del cupón\"))\n",
        "dividir_cuenta=int(input(\"Ingrese la cantidad de personas que pagaran\"))\n",
        "valor_total=(suma_mercado (multiplicacion_mercado (cantidad_producto1,valor_producto1), multiplicacion_mercado (cantidad_producto2,valor_producto2)))\n",
        "valor_menos_descuento = resta_mercado(valor_total,descuento)\n",
        "print (\"Valor total a pagar\",valor_menos_descuento,\"y el valor total divido por\",dividir_cuenta, \"personas:\", round(division_mercado(valor_menos_descuento,dividir_cuenta)))\n",
        "\n"
      ]
    },
    {
      "cell_type": "code",
      "source": [
        "y = int(input())\n",
        "\n",
        "x = x % y\n",
        "x = x % y\n",
        "y = y % x\n",
        "\n",
        "print(y)"
      ],
      "metadata": {
        "colab": {
          "base_uri": "https://localhost:8080/",
          "height": 228
        },
        "id": "25BrX0ejxEbM",
        "outputId": "c6676122-9ae9-4e86-eb5c-a31036bb5edf"
      },
      "execution_count": null,
      "outputs": [
        {
          "name": "stdout",
          "output_type": "stream",
          "text": [
            "11\n"
          ]
        },
        {
          "output_type": "error",
          "ename": "ZeroDivisionError",
          "evalue": "integer division or modulo by zero",
          "traceback": [
            "\u001b[0;31m---------------------------------------------------------------------------\u001b[0m",
            "\u001b[0;31mZeroDivisionError\u001b[0m                         Traceback (most recent call last)",
            "\u001b[0;32m<ipython-input-6-3e150f58ae4b>\u001b[0m in \u001b[0;36m<cell line: 5>\u001b[0;34m()\u001b[0m\n\u001b[1;32m      3\u001b[0m \u001b[0mx\u001b[0m \u001b[0;34m=\u001b[0m \u001b[0mx\u001b[0m \u001b[0;34m%\u001b[0m \u001b[0my\u001b[0m\u001b[0;34m\u001b[0m\u001b[0;34m\u001b[0m\u001b[0m\n\u001b[1;32m      4\u001b[0m \u001b[0mx\u001b[0m \u001b[0;34m=\u001b[0m \u001b[0mx\u001b[0m \u001b[0;34m%\u001b[0m \u001b[0my\u001b[0m\u001b[0;34m\u001b[0m\u001b[0;34m\u001b[0m\u001b[0m\n\u001b[0;32m----> 5\u001b[0;31m \u001b[0my\u001b[0m \u001b[0;34m=\u001b[0m \u001b[0my\u001b[0m \u001b[0;34m%\u001b[0m \u001b[0mx\u001b[0m\u001b[0;34m\u001b[0m\u001b[0;34m\u001b[0m\u001b[0m\n\u001b[0m\u001b[1;32m      6\u001b[0m \u001b[0;34m\u001b[0m\u001b[0m\n\u001b[1;32m      7\u001b[0m \u001b[0mprint\u001b[0m\u001b[0;34m(\u001b[0m\u001b[0my\u001b[0m\u001b[0;34m)\u001b[0m\u001b[0;34m\u001b[0m\u001b[0;34m\u001b[0m\u001b[0m\n",
            "\u001b[0;31mZeroDivisionError\u001b[0m: integer division or modulo by zero"
          ]
        }
      ]
    }
  ],
  "metadata": {
    "colab": {
      "provenance": []
    },
    "kernelspec": {
      "display_name": "Python 3",
      "name": "python3"
    },
    "language_info": {
      "name": "python"
    }
  },
  "nbformat": 4,
  "nbformat_minor": 0
}